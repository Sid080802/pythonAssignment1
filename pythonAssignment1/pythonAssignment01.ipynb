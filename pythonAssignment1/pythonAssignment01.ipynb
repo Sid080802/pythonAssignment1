{
 "cells": [
  {
   "cell_type": "markdown",
   "id": "96e131c4",
   "metadata": {},
   "source": [
    "### 1. Write code that prints Hello if 1 is stored in spam, prints Howdy if 2 is stored in spam, and prints Greetings! if anything else is stored in spam."
   ]
  },
  {
   "cell_type": "code",
   "execution_count": 5,
   "id": "83bec47c",
   "metadata": {},
   "outputs": [
    {
     "name": "stdout",
     "output_type": "stream",
     "text": [
      "Enter the number: 3\n",
      "Greetings!\n"
     ]
    }
   ],
   "source": [
    "spam = int(input(\"Enter the number: \"))\n",
    "\n",
    "if spam == 1:\n",
    "    print(\"Hello\")\n",
    "elif spam == 2:\n",
    "    print(\"Howdy\")\n",
    "else:\n",
    "    print(\"Greetings!\")"
   ]
  },
  {
   "cell_type": "markdown",
   "id": "91ec54ad",
   "metadata": {},
   "source": [
    "### 2. Write a short program that prints the numbers 1 to 10 using a for loop. Then write an equivalent program that prints the numbers 1 to 10 using a while loop."
   ]
  },
  {
   "cell_type": "code",
   "execution_count": 13,
   "id": "5b1a0c70",
   "metadata": {},
   "outputs": [
    {
     "name": "stdout",
     "output_type": "stream",
     "text": [
      "For Loop:  1\n",
      "For Loop:  2\n",
      "For Loop:  3\n",
      "For Loop:  4\n",
      "For Loop:  5\n",
      "For Loop:  6\n",
      "For Loop:  7\n",
      "For Loop:  8\n",
      "For Loop:  9\n",
      "For Loop:  10\n",
      "While Loop:  1\n",
      "While Loop:  2\n",
      "While Loop:  3\n",
      "While Loop:  4\n",
      "While Loop:  5\n",
      "While Loop:  6\n",
      "While Loop:  7\n",
      "While Loop:  8\n",
      "While Loop:  9\n",
      "While Loop:  10\n"
     ]
    }
   ],
   "source": [
    "for i in range(1,11):\n",
    "    print(\"For Loop: \",i)\n",
    "\n",
    "j = 1\n",
    "while j<11:\n",
    "    print(\"While Loop: \",j)\n",
    "    j += 1"
   ]
  },
  {
   "cell_type": "markdown",
   "id": "01b599bd",
   "metadata": {},
   "source": [
    "### 3. In a list of values stored in a variable called spam, how would you assign the value &#39;hello&#39; as the third value? (Assume [2, 4, 6, 8, 10] are in spam.)"
   ]
  },
  {
   "cell_type": "code",
   "execution_count": 15,
   "id": "6737899f",
   "metadata": {},
   "outputs": [
    {
     "name": "stdout",
     "output_type": "stream",
     "text": [
      "[2, 4, 'hello', 6, 8, 10]\n"
     ]
    }
   ],
   "source": [
    "spam = [2, 4, 6, 8, 10]\n",
    "#spam[2] = 'hello'\n",
    "spam.insert(2,'hello')\n",
    "print(spam)"
   ]
  },
  {
   "cell_type": "markdown",
   "id": "811537b2",
   "metadata": {},
   "source": [
    "### 4. Write a Python program to find the area of a triangle?"
   ]
  },
  {
   "cell_type": "code",
   "execution_count": 1,
   "id": "bb4313ec",
   "metadata": {},
   "outputs": [
    {
     "name": "stdout",
     "output_type": "stream",
     "text": [
      "Enter base of triangle (in cm): 10\n",
      "Enter height of triangle (in cm): 12\n",
      "Area of triangle is:  60.0 cm2\n"
     ]
    }
   ],
   "source": [
    "base = int(input(\"Enter base of triangle (in cm): \"))\n",
    "height = int(input(\"Enter height of triangle (in cm): \"))\n",
    "\n",
    "area = 0.5*base*height\n",
    "print(\"Area of triangle is: \",area,\"cm2\")"
   ]
  },
  {
   "cell_type": "markdown",
   "id": "dc33facf",
   "metadata": {},
   "source": [
    "### 5. Write a Python program to swap two variables"
   ]
  },
  {
   "cell_type": "code",
   "execution_count": 7,
   "id": "64a04a28",
   "metadata": {},
   "outputs": [
    {
     "name": "stdout",
     "output_type": "stream",
     "text": [
      "Method 1:\n",
      "20\n",
      "10\n",
      "Method 2: \n",
      "40\n",
      "20\n"
     ]
    }
   ],
   "source": [
    "#method1:\n",
    "print(\"Method 1:\")\n",
    "a=10\n",
    "b=20\n",
    "\n",
    "temp=a\n",
    "a=b\n",
    "b=temp\n",
    "print(a)\n",
    "print(b)\n",
    "\n",
    "#method2:\n",
    "print(\"Method 2: \")\n",
    "x=20\n",
    "y=40\n",
    "\n",
    "x=x+y\n",
    "y=x-y\n",
    "x=x-y\n",
    "print(x)\n",
    "print(y)"
   ]
  },
  {
   "cell_type": "markdown",
   "id": "55f8c9d6",
   "metadata": {},
   "source": [
    "### 6. Write a Python program to generate a random number"
   ]
  },
  {
   "cell_type": "code",
   "execution_count": 10,
   "id": "7eabe647",
   "metadata": {},
   "outputs": [
    {
     "name": "stdout",
     "output_type": "stream",
     "text": [
      "Newly Generated Random Number:  35\n"
     ]
    }
   ],
   "source": [
    "import random\n",
    "random_number = random.randint(1,101)\n",
    "print(\"Newly Generated Random Number: \",random_number)"
   ]
  },
  {
   "cell_type": "code",
   "execution_count": null,
   "id": "e8ce93a2",
   "metadata": {},
   "outputs": [],
   "source": []
  },
  {
   "cell_type": "code",
   "execution_count": null,
   "id": "4d07e8a5",
   "metadata": {},
   "outputs": [],
   "source": []
  }
 ],
 "metadata": {
  "kernelspec": {
   "display_name": "Python 3 (ipykernel)",
   "language": "python",
   "name": "python3"
  },
  "language_info": {
   "codemirror_mode": {
    "name": "ipython",
    "version": 3
   },
   "file_extension": ".py",
   "mimetype": "text/x-python",
   "name": "python",
   "nbconvert_exporter": "python",
   "pygments_lexer": "ipython3",
   "version": "3.11.4"
  }
 },
 "nbformat": 4,
 "nbformat_minor": 5
}
